{
 "cells": [
  {
   "cell_type": "code",
   "execution_count": 1,
   "metadata": {},
   "outputs": [],
   "source": [
    "from models import *\n",
    "from data_set import LeucorrheaDataset\n",
    "import utils_custom.view_tools as view_tools\n",
    "import time\n",
    "import  numpy as np\n",
    "import torch"
   ]
  },
  {
   "cell_type": "code",
   "execution_count": 2,
   "metadata": {},
   "outputs": [
    {
     "name": "stdout",
     "output_type": "stream",
     "text": [
      "num images:1 inference time elapsed:0.5641005039215088  output shape:1\n",
      "num images:1 inference time elapsed:0.06570625305175781  output shape:1\n",
      "num images:1 inference time elapsed:0.06604957580566406  output shape:1\n",
      "num images:2 inference time elapsed:0.2384510040283203  output shape:2\n",
      "num images:2 inference time elapsed:0.12659382820129395  output shape:2\n",
      "num images:2 inference time elapsed:0.1267092227935791  output shape:2\n",
      "num images:3 inference time elapsed:0.1867079734802246  output shape:3\n",
      "num images:3 inference time elapsed:0.19765567779541016  output shape:3\n",
      "num images:3 inference time elapsed:0.18551158905029297  output shape:3\n",
      "num images:4 inference time elapsed:0.2516043186187744  output shape:4\n",
      "num images:4 inference time elapsed:0.24707484245300293  output shape:4\n",
      "num images:4 inference time elapsed:0.25538206100463867  output shape:4\n",
      "num images:5 inference time elapsed:0.3180885314941406  output shape:5\n",
      "num images:5 inference time elapsed:0.31321001052856445  output shape:5\n",
      "num images:5 inference time elapsed:0.30953431129455566  output shape:5\n"
     ]
    }
   ],
   "source": [
    "device = torch.device('cuda')\n",
    "model = get_model('trained_fasterrcnn_resnet50_fpn')\n",
    "model.eval()\n",
    "model.to(device)\n",
    "data_set = LeucorrheaDataset(train=False)\n",
    "for num in range(1,6):\n",
    "    for i in range(3):\n",
    "        imgs = []\n",
    "        for j in range(num):\n",
    "            img, target = data_set[i*num+j]\n",
    "            img = img.to(device)\n",
    "            imgs.append(img)\n",
    "        start_time = time.time()\n",
    "        output = model(imgs)\n",
    "        time_elapsed = time.time() - start_time\n",
    "        print('num images:{} inference time elapsed:{}  output shape:{}'.format(num,time_elapsed,len(output)))"
   ]
  },
  {
   "cell_type": "code",
   "execution_count": null,
   "metadata": {},
   "outputs": [],
   "source": []
  },
  {
   "cell_type": "code",
   "execution_count": null,
   "metadata": {},
   "outputs": [],
   "source": []
  }
 ],
 "metadata": {
  "kernelspec": {
   "display_name": "Python 3",
   "language": "python",
   "name": "python3"
  },
  "language_info": {
   "codemirror_mode": {
    "name": "ipython",
    "version": 3
   },
   "file_extension": ".py",
   "mimetype": "text/x-python",
   "name": "python",
   "nbconvert_exporter": "python",
   "pygments_lexer": "ipython3",
   "version": "3.7.3"
  }
 },
 "nbformat": 4,
 "nbformat_minor": 2
}
